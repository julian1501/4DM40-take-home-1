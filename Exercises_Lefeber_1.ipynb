{
 "cells": [
  {
   "cell_type": "code",
   "execution_count": null,
   "id": "d1276c20-ca43-41cc-b395-6fcd2fc4225d",
   "metadata": {},
   "outputs": [
    {
     "ename": "FileNotFoundError",
     "evalue": "[Errno 2] No such file or directory: 'C:/Users/20212127/Documents/Y4_Q4/4DM40/data/EPTdata-ExerciseSetLefeber1-Ex4.txt'",
     "output_type": "error",
     "traceback": [
      "\u001b[1;31m---------------------------------------------------------------------------\u001b[0m",
      "\u001b[1;31mFileNotFoundError\u001b[0m                         Traceback (most recent call last)",
      "Cell \u001b[1;32mIn[1], line 6\u001b[0m\n\u001b[0;32m      4\u001b[0m \u001b[38;5;66;03m# Load data\u001b[39;00m\n\u001b[0;32m      5\u001b[0m events \u001b[38;5;241m=\u001b[39m []\n\u001b[1;32m----> 6\u001b[0m \u001b[38;5;28;01mwith\u001b[39;00m \u001b[38;5;28;43mopen\u001b[39;49m\u001b[43m(\u001b[49m\u001b[43mfilename\u001b[49m\u001b[43m,\u001b[49m\u001b[43m \u001b[49m\u001b[38;5;124;43m'\u001b[39;49m\u001b[38;5;124;43mr\u001b[39;49m\u001b[38;5;124;43m'\u001b[39;49m\u001b[43m)\u001b[49m \u001b[38;5;28;01mas\u001b[39;00m f:\n\u001b[0;32m      7\u001b[0m     \u001b[38;5;28;01mfor\u001b[39;00m line \u001b[38;5;129;01min\u001b[39;00m f:\n\u001b[0;32m      8\u001b[0m         parts \u001b[38;5;241m=\u001b[39m line\u001b[38;5;241m.\u001b[39mstrip()\u001b[38;5;241m.\u001b[39msplit(\u001b[38;5;124m'\u001b[39m\u001b[38;5;130;01m\\t\u001b[39;00m\u001b[38;5;124m'\u001b[39m)\n",
      "File \u001b[1;32m~\\AppData\\Roaming\\Python\\Python39\\site-packages\\IPython\\core\\interactiveshell.py:310\u001b[0m, in \u001b[0;36m_modified_open\u001b[1;34m(file, *args, **kwargs)\u001b[0m\n\u001b[0;32m    303\u001b[0m \u001b[38;5;28;01mif\u001b[39;00m file \u001b[38;5;129;01min\u001b[39;00m {\u001b[38;5;241m0\u001b[39m, \u001b[38;5;241m1\u001b[39m, \u001b[38;5;241m2\u001b[39m}:\n\u001b[0;32m    304\u001b[0m     \u001b[38;5;28;01mraise\u001b[39;00m \u001b[38;5;167;01mValueError\u001b[39;00m(\n\u001b[0;32m    305\u001b[0m         \u001b[38;5;124mf\u001b[39m\u001b[38;5;124m\"\u001b[39m\u001b[38;5;124mIPython won\u001b[39m\u001b[38;5;124m'\u001b[39m\u001b[38;5;124mt let you open fd=\u001b[39m\u001b[38;5;132;01m{\u001b[39;00mfile\u001b[38;5;132;01m}\u001b[39;00m\u001b[38;5;124m by default \u001b[39m\u001b[38;5;124m\"\u001b[39m\n\u001b[0;32m    306\u001b[0m         \u001b[38;5;124m\"\u001b[39m\u001b[38;5;124mas it is likely to crash IPython. If you know what you are doing, \u001b[39m\u001b[38;5;124m\"\u001b[39m\n\u001b[0;32m    307\u001b[0m         \u001b[38;5;124m\"\u001b[39m\u001b[38;5;124myou can use builtins\u001b[39m\u001b[38;5;124m'\u001b[39m\u001b[38;5;124m open.\u001b[39m\u001b[38;5;124m\"\u001b[39m\n\u001b[0;32m    308\u001b[0m     )\n\u001b[1;32m--> 310\u001b[0m \u001b[38;5;28;01mreturn\u001b[39;00m io_open(file, \u001b[38;5;241m*\u001b[39margs, \u001b[38;5;241m*\u001b[39m\u001b[38;5;241m*\u001b[39mkwargs)\n",
      "\u001b[1;31mFileNotFoundError\u001b[0m: [Errno 2] No such file or directory: 'C:/Users/20212127/Documents/Y4_Q4/4DM40/data/EPTdata-ExerciseSetLefeber1-Ex4.txt'"
     ]
    }
   ],
   "source": [
    "# Read the file and parse the events\n",
    "filename = \"EPTdata-ExerciseSetLefeber1-Ex4.txt\"\n",
    "\n",
    "# Load data\n",
    "events = []\n",
    "with open(filename, 'r') as f:\n",
    "    for line in f:\n",
    "        parts = line.strip().split('\\t')\n",
    "        time = int(parts[0])\n",
    "        lot = parts[1]\n",
    "        event_type = parts[2]\n",
    "        # Extract lot number from lot name\n",
    "        lot_number = int(lot.replace('lot', ''))\n",
    "        events.append((time, event_type, lot_number))\n",
    "\n",
    "# EPT Algorithm\n",
    "\n",
    "def detOvert(xs, i):\n",
    "    ys = []\n",
    "    new_xs = []\n",
    "    found = False\n",
    "    for (j, aw) in xs:\n",
    "        if not found:\n",
    "            if j < i:\n",
    "                ys.append((j, aw))\n",
    "            elif j == i:\n",
    "                found = True\n",
    "                continue\n",
    "        else:\n",
    "            new_xs.append((j, aw))\n",
    "    return ys + new_xs, len(ys), aw\n",
    "\n",
    "xs = []  # list of (arrival_number, aw)\n",
    "s = None  # EPT start time\n",
    "sw = None  # WIP-level after EPT start\n",
    "\n",
    "# Outputs\n",
    "EPT_results = []  # (EPT_duration, WIP-level)\n",
    "Overtaking_results = []  # (number_overtaken, aw)\n",
    "\n",
    "for (tau, ev, i) in events:\n",
    "    if ev == 'A':\n",
    "        if len(xs) == 0:\n",
    "            s, sw = tau, 1\n",
    "        xs.append((i, len(xs)))\n",
    "    elif ev == 'D':\n",
    "        # End current EPT\n",
    "        EPT_duration = tau - s\n",
    "        EPT_results.append((EPT_duration, sw))\n",
    "        \n",
    "        xs, k, aw = detOvert(xs, i)\n",
    "        Overtaking_results.append((k, aw))\n",
    "\n",
    "        if len(xs) > 0:\n",
    "            s, sw = tau, len(xs)\n",
    "\n",
    "# Display Results\n",
    "print(\"EPT Durations and WIP-levels:\")\n",
    "for duration, wip in EPT_results:\n",
    "    print(f\"EPT Duration: {duration}, WIP-level: {wip}\")\n",
    "\n",
    "print(\"\\nOvertaking Details:\")\n",
    "for overtaken, aw in Overtaking_results:\n",
    "    print(f\"Number of overtaken lots: {overtaken}, WIP before arrival: {aw}\")\n",
    "\n",
    "# Calculate and display mean EPT duration\n",
    "mean_EPT = sum(duration for duration, _ in EPT_results) / len(EPT_results)\n",
    "print(f\"\\nMean EPT Duration: {mean_EPT:.2f}\")\n"
   ]
  },
  {
   "cell_type": "code",
   "execution_count": null,
   "id": "8e92b0c3-9525-4b72-9f12-2ddd18786484",
   "metadata": {},
   "outputs": [],
   "source": []
  }
 ],
 "metadata": {
  "kernelspec": {
   "display_name": "4DM40_env",
   "language": "python",
   "name": "python3"
  },
  "language_info": {
   "codemirror_mode": {
    "name": "ipython",
    "version": 3
   },
   "file_extension": ".py",
   "mimetype": "text/x-python",
   "name": "python",
   "nbconvert_exporter": "python",
   "pygments_lexer": "ipython3",
   "version": "3.9.21"
  }
 },
 "nbformat": 4,
 "nbformat_minor": 5
}
